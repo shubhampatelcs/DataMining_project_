{
 "cells": [
  {
   "cell_type": "code",
   "execution_count": 59,
   "metadata": {
    "id": "91Il5ulbK60x"
   },
   "outputs": [],
   "source": [
    "import os\n",
    "import numpy as np\n",
    "import pandas as pd\n",
    "import warnings\n",
    "\n",
    "from PIL import Image\n",
    "from skimage.color import rgb2gray\n",
    "import xml.etree.ElementTree as ET\n",
    "from skimage import io, exposure, filters\n",
    "\n",
    "from sklearn.model_selection import train_test_split\n",
    "from sklearn.preprocessing import StandardScaler\n",
    "\n",
    "from sklearn.svm import LinearSVC\n",
    "from sklearn.tree import DecisionTreeClassifier\n",
    "from sklearn.naive_bayes import GaussianNB\n",
    "from sklearn.ensemble import AdaBoostClassifier\n",
    "\n",
    "from sklearn.metrics import accuracy_score\n",
    "from sklearn.metrics import confusion_matrix\n",
    "from sklearn.model_selection import cross_val_score, StratifiedKFold, KFold\n",
    "\n",
    "\n",
    "import matplotlib.pyplot as plt"
   ]
  },
  {
   "cell_type": "code",
   "execution_count": 60,
   "metadata": {
    "id": "8HPkX2IY1bTA"
   },
   "outputs": [],
   "source": [
    "warnings.filterwarnings(\"ignore\")"
   ]
  },
  {
   "cell_type": "code",
   "execution_count": 61,
   "metadata": {
    "id": "je6g-GhFS-VL"
   },
   "outputs": [],
   "source": [
    "def angle(dx, dy):\n",
    "    \"\"\"Calculate the angles between horizontal and vertical operators.\"\"\"\n",
    "    return np.mod(np.arctan2(dy, dx), np.pi)"
   ]
  },
  {
   "cell_type": "code",
   "execution_count": 62,
   "metadata": {},
   "outputs": [],
   "source": [
    "new_dir = \"./updated\""
   ]
  },
  {
   "cell_type": "code",
   "execution_count": 63,
   "metadata": {},
   "outputs": [],
   "source": [
    "class_paths = os.listdir(new_dir)"
   ]
  },
  {
   "cell_type": "code",
   "execution_count": 64,
   "metadata": {},
   "outputs": [
    {
     "data": {
      "text/plain": [
       "['n02110063-malamute',\n",
       " 'n02093859-Kerry_blue_terrier',\n",
       " 'n02100236-German_short-haired_pointer',\n",
       " 'n02102177-Welsh_springer_spaniel']"
      ]
     },
     "execution_count": 64,
     "metadata": {},
     "output_type": "execute_result"
    }
   ],
   "source": [
    "class_paths"
   ]
  },
  {
   "cell_type": "code",
   "execution_count": 65,
   "metadata": {},
   "outputs": [],
   "source": [
    "class_names = [i[10:] for i in class_paths]"
   ]
  },
  {
   "cell_type": "code",
   "execution_count": 66,
   "metadata": {
    "colab": {
     "base_uri": "https://localhost:8080/"
    },
    "id": "OqfDC_GwM6cB",
    "outputId": "f7f33666-0867-495a-fbc8-159fe6ec9f3f"
   },
   "outputs": [
    {
     "data": {
      "text/plain": [
       "['malamute',\n",
       " 'Kerry_blue_terrier',\n",
       " 'German_short-haired_pointer',\n",
       " 'Welsh_springer_spaniel']"
      ]
     },
     "execution_count": 66,
     "metadata": {},
     "output_type": "execute_result"
    }
   ],
   "source": [
    "class_names"
   ]
  },
  {
   "cell_type": "markdown",
   "metadata": {},
   "source": [
    "# 2"
   ]
  },
  {
   "cell_type": "code",
   "execution_count": 67,
   "metadata": {
    "id": "hSsSTDBkQCKw"
   },
   "outputs": [],
   "source": [
    "df = pd.DataFrame(columns = list(range(0,36))+['class'])\n",
    "for class_ in class_paths:\n",
    "  class_path = os.path.join(new_dir,class_)\n",
    "  for filename in os.listdir(class_path):\n",
    "    img = io.imread(os.path.join(class_path,filename))\n",
    "    gray_sacle = rgb2gray(img)\n",
    "    angle_sobel = angle(filters.sobel_h(gray_sacle),\n",
    "                    filters.sobel_v(gray_sacle))\n",
    "    hist,bins = exposure.histogram(angle_sobel,nbins=36)\n",
    "\n",
    "\n",
    "    for i in class_names:\n",
    "      if i.lower() in class_.lower():\n",
    "        break\n",
    "    df.loc[len(df)] = list(hist)+[class_names.index(i)]\n",
    "\n",
    "\n"
   ]
  },
  {
   "cell_type": "code",
   "execution_count": 68,
   "metadata": {
    "id": "cdHaJmJKVmvv"
   },
   "outputs": [],
   "source": [
    "df.to_csv(\"hist_datset.csv\")"
   ]
  },
  {
   "cell_type": "code",
   "execution_count": 69,
   "metadata": {
    "colab": {
     "base_uri": "https://localhost:8080/",
     "height": 423
    },
    "id": "cNjtKCROm-jV",
    "outputId": "17f59870-a54e-4694-ef52-33b0896d248e"
   },
   "outputs": [
    {
     "data": {
      "text/html": [
       "<div>\n",
       "<style scoped>\n",
       "    .dataframe tbody tr th:only-of-type {\n",
       "        vertical-align: middle;\n",
       "    }\n",
       "\n",
       "    .dataframe tbody tr th {\n",
       "        vertical-align: top;\n",
       "    }\n",
       "\n",
       "    .dataframe thead th {\n",
       "        text-align: right;\n",
       "    }\n",
       "</style>\n",
       "<table border=\"1\" class=\"dataframe\">\n",
       "  <thead>\n",
       "    <tr style=\"text-align: right;\">\n",
       "      <th></th>\n",
       "      <th>0</th>\n",
       "      <th>1</th>\n",
       "      <th>2</th>\n",
       "      <th>3</th>\n",
       "      <th>4</th>\n",
       "      <th>5</th>\n",
       "      <th>6</th>\n",
       "      <th>7</th>\n",
       "      <th>8</th>\n",
       "      <th>9</th>\n",
       "      <th>...</th>\n",
       "      <th>27</th>\n",
       "      <th>28</th>\n",
       "      <th>29</th>\n",
       "      <th>30</th>\n",
       "      <th>31</th>\n",
       "      <th>32</th>\n",
       "      <th>33</th>\n",
       "      <th>34</th>\n",
       "      <th>35</th>\n",
       "      <th>class</th>\n",
       "    </tr>\n",
       "  </thead>\n",
       "  <tbody>\n",
       "    <tr>\n",
       "      <th>0</th>\n",
       "      <td>844</td>\n",
       "      <td>718</td>\n",
       "      <td>573</td>\n",
       "      <td>493</td>\n",
       "      <td>487</td>\n",
       "      <td>450</td>\n",
       "      <td>401</td>\n",
       "      <td>393</td>\n",
       "      <td>387</td>\n",
       "      <td>353</td>\n",
       "      <td>...</td>\n",
       "      <td>436</td>\n",
       "      <td>476</td>\n",
       "      <td>436</td>\n",
       "      <td>492</td>\n",
       "      <td>503</td>\n",
       "      <td>595</td>\n",
       "      <td>638</td>\n",
       "      <td>683</td>\n",
       "      <td>716</td>\n",
       "      <td>0</td>\n",
       "    </tr>\n",
       "    <tr>\n",
       "      <th>1</th>\n",
       "      <td>601</td>\n",
       "      <td>404</td>\n",
       "      <td>331</td>\n",
       "      <td>330</td>\n",
       "      <td>334</td>\n",
       "      <td>359</td>\n",
       "      <td>371</td>\n",
       "      <td>374</td>\n",
       "      <td>349</td>\n",
       "      <td>380</td>\n",
       "      <td>...</td>\n",
       "      <td>461</td>\n",
       "      <td>462</td>\n",
       "      <td>413</td>\n",
       "      <td>408</td>\n",
       "      <td>384</td>\n",
       "      <td>439</td>\n",
       "      <td>441</td>\n",
       "      <td>452</td>\n",
       "      <td>519</td>\n",
       "      <td>0</td>\n",
       "    </tr>\n",
       "    <tr>\n",
       "      <th>2</th>\n",
       "      <td>549</td>\n",
       "      <td>503</td>\n",
       "      <td>505</td>\n",
       "      <td>485</td>\n",
       "      <td>473</td>\n",
       "      <td>509</td>\n",
       "      <td>481</td>\n",
       "      <td>545</td>\n",
       "      <td>504</td>\n",
       "      <td>488</td>\n",
       "      <td>...</td>\n",
       "      <td>378</td>\n",
       "      <td>396</td>\n",
       "      <td>411</td>\n",
       "      <td>445</td>\n",
       "      <td>456</td>\n",
       "      <td>439</td>\n",
       "      <td>468</td>\n",
       "      <td>457</td>\n",
       "      <td>510</td>\n",
       "      <td>0</td>\n",
       "    </tr>\n",
       "    <tr>\n",
       "      <th>3</th>\n",
       "      <td>460</td>\n",
       "      <td>458</td>\n",
       "      <td>439</td>\n",
       "      <td>482</td>\n",
       "      <td>408</td>\n",
       "      <td>486</td>\n",
       "      <td>451</td>\n",
       "      <td>463</td>\n",
       "      <td>454</td>\n",
       "      <td>459</td>\n",
       "      <td>...</td>\n",
       "      <td>453</td>\n",
       "      <td>401</td>\n",
       "      <td>412</td>\n",
       "      <td>433</td>\n",
       "      <td>401</td>\n",
       "      <td>469</td>\n",
       "      <td>431</td>\n",
       "      <td>394</td>\n",
       "      <td>456</td>\n",
       "      <td>0</td>\n",
       "    </tr>\n",
       "    <tr>\n",
       "      <th>4</th>\n",
       "      <td>506</td>\n",
       "      <td>457</td>\n",
       "      <td>419</td>\n",
       "      <td>451</td>\n",
       "      <td>466</td>\n",
       "      <td>486</td>\n",
       "      <td>481</td>\n",
       "      <td>456</td>\n",
       "      <td>458</td>\n",
       "      <td>478</td>\n",
       "      <td>...</td>\n",
       "      <td>428</td>\n",
       "      <td>408</td>\n",
       "      <td>422</td>\n",
       "      <td>405</td>\n",
       "      <td>425</td>\n",
       "      <td>466</td>\n",
       "      <td>437</td>\n",
       "      <td>463</td>\n",
       "      <td>417</td>\n",
       "      <td>0</td>\n",
       "    </tr>\n",
       "  </tbody>\n",
       "</table>\n",
       "<p>5 rows × 37 columns</p>\n",
       "</div>"
      ],
      "text/plain": [
       "     0    1    2    3    4    5    6    7    8    9  ...   27   28   29   30  \\\n",
       "0  844  718  573  493  487  450  401  393  387  353  ...  436  476  436  492   \n",
       "1  601  404  331  330  334  359  371  374  349  380  ...  461  462  413  408   \n",
       "2  549  503  505  485  473  509  481  545  504  488  ...  378  396  411  445   \n",
       "3  460  458  439  482  408  486  451  463  454  459  ...  453  401  412  433   \n",
       "4  506  457  419  451  466  486  481  456  458  478  ...  428  408  422  405   \n",
       "\n",
       "    31   32   33   34   35  class  \n",
       "0  503  595  638  683  716      0  \n",
       "1  384  439  441  452  519      0  \n",
       "2  456  439  468  457  510      0  \n",
       "3  401  469  431  394  456      0  \n",
       "4  425  466  437  463  417      0  \n",
       "\n",
       "[5 rows x 37 columns]"
      ]
     },
     "execution_count": 69,
     "metadata": {},
     "output_type": "execute_result"
    }
   ],
   "source": [
    "df.head()"
   ]
  },
  {
   "cell_type": "markdown",
   "metadata": {
    "id": "EFbMXC_AexE-"
   },
   "source": [
    "## 3"
   ]
  },
  {
   "cell_type": "code",
   "execution_count": 70,
   "metadata": {
    "id": "yOY9myiYZc6V"
   },
   "outputs": [],
   "source": [
    "X = np.array(df[df.columns[:-1]])\n",
    "y = np.array(df['class'])"
   ]
  },
  {
   "cell_type": "code",
   "execution_count": 71,
   "metadata": {
    "id": "hUOQ_5XhZON4"
   },
   "outputs": [],
   "source": [
    "X_train, X_test, y_train, y_test = train_test_split(X,y,test_size=0.2)"
   ]
  },
  {
   "cell_type": "markdown",
   "metadata": {
    "id": "zqRn6WCZe1_b"
   },
   "source": [
    "## 4,5"
   ]
  },
  {
   "cell_type": "code",
   "execution_count": 72,
   "metadata": {
    "colab": {
     "base_uri": "https://localhost:8080/",
     "height": 74
    },
    "id": "PtYmBzHrbdvk",
    "outputId": "3b78b33e-4025-4438-9279-8eca7cda0693"
   },
   "outputs": [
    {
     "data": {
      "text/html": [
       "<style>#sk-container-id-4 {color: black;background-color: white;}#sk-container-id-4 pre{padding: 0;}#sk-container-id-4 div.sk-toggleable {background-color: white;}#sk-container-id-4 label.sk-toggleable__label {cursor: pointer;display: block;width: 100%;margin-bottom: 0;padding: 0.3em;box-sizing: border-box;text-align: center;}#sk-container-id-4 label.sk-toggleable__label-arrow:before {content: \"▸\";float: left;margin-right: 0.25em;color: #696969;}#sk-container-id-4 label.sk-toggleable__label-arrow:hover:before {color: black;}#sk-container-id-4 div.sk-estimator:hover label.sk-toggleable__label-arrow:before {color: black;}#sk-container-id-4 div.sk-toggleable__content {max-height: 0;max-width: 0;overflow: hidden;text-align: left;background-color: #f0f8ff;}#sk-container-id-4 div.sk-toggleable__content pre {margin: 0.2em;color: black;border-radius: 0.25em;background-color: #f0f8ff;}#sk-container-id-4 input.sk-toggleable__control:checked~div.sk-toggleable__content {max-height: 200px;max-width: 100%;overflow: auto;}#sk-container-id-4 input.sk-toggleable__control:checked~label.sk-toggleable__label-arrow:before {content: \"▾\";}#sk-container-id-4 div.sk-estimator input.sk-toggleable__control:checked~label.sk-toggleable__label {background-color: #d4ebff;}#sk-container-id-4 div.sk-label input.sk-toggleable__control:checked~label.sk-toggleable__label {background-color: #d4ebff;}#sk-container-id-4 input.sk-hidden--visually {border: 0;clip: rect(1px 1px 1px 1px);clip: rect(1px, 1px, 1px, 1px);height: 1px;margin: -1px;overflow: hidden;padding: 0;position: absolute;width: 1px;}#sk-container-id-4 div.sk-estimator {font-family: monospace;background-color: #f0f8ff;border: 1px dotted black;border-radius: 0.25em;box-sizing: border-box;margin-bottom: 0.5em;}#sk-container-id-4 div.sk-estimator:hover {background-color: #d4ebff;}#sk-container-id-4 div.sk-parallel-item::after {content: \"\";width: 100%;border-bottom: 1px solid gray;flex-grow: 1;}#sk-container-id-4 div.sk-label:hover label.sk-toggleable__label {background-color: #d4ebff;}#sk-container-id-4 div.sk-serial::before {content: \"\";position: absolute;border-left: 1px solid gray;box-sizing: border-box;top: 0;bottom: 0;left: 50%;z-index: 0;}#sk-container-id-4 div.sk-serial {display: flex;flex-direction: column;align-items: center;background-color: white;padding-right: 0.2em;padding-left: 0.2em;position: relative;}#sk-container-id-4 div.sk-item {position: relative;z-index: 1;}#sk-container-id-4 div.sk-parallel {display: flex;align-items: stretch;justify-content: center;background-color: white;position: relative;}#sk-container-id-4 div.sk-item::before, #sk-container-id-4 div.sk-parallel-item::before {content: \"\";position: absolute;border-left: 1px solid gray;box-sizing: border-box;top: 0;bottom: 0;left: 50%;z-index: -1;}#sk-container-id-4 div.sk-parallel-item {display: flex;flex-direction: column;z-index: 1;position: relative;background-color: white;}#sk-container-id-4 div.sk-parallel-item:first-child::after {align-self: flex-end;width: 50%;}#sk-container-id-4 div.sk-parallel-item:last-child::after {align-self: flex-start;width: 50%;}#sk-container-id-4 div.sk-parallel-item:only-child::after {width: 0;}#sk-container-id-4 div.sk-dashed-wrapped {border: 1px dashed gray;margin: 0 0.4em 0.5em 0.4em;box-sizing: border-box;padding-bottom: 0.4em;background-color: white;}#sk-container-id-4 div.sk-label label {font-family: monospace;font-weight: bold;display: inline-block;line-height: 1.2em;}#sk-container-id-4 div.sk-label-container {text-align: center;}#sk-container-id-4 div.sk-container {/* jupyter's `normalize.less` sets `[hidden] { display: none; }` but bootstrap.min.css set `[hidden] { display: none !important; }` so we also need the `!important` here to be able to override the default hidden behavior on the sphinx rendered scikit-learn.org. See: https://github.com/scikit-learn/scikit-learn/issues/21755 */display: inline-block !important;position: relative;}#sk-container-id-4 div.sk-text-repr-fallback {display: none;}</style><div id=\"sk-container-id-4\" class=\"sk-top-container\"><div class=\"sk-text-repr-fallback\"><pre>StandardScaler()</pre><b>In a Jupyter environment, please rerun this cell to show the HTML representation or trust the notebook. <br />On GitHub, the HTML representation is unable to render, please try loading this page with nbviewer.org.</b></div><div class=\"sk-container\" hidden><div class=\"sk-item\"><div class=\"sk-estimator sk-toggleable\"><input class=\"sk-toggleable__control sk-hidden--visually\" id=\"sk-estimator-id-4\" type=\"checkbox\" checked><label for=\"sk-estimator-id-4\" class=\"sk-toggleable__label sk-toggleable__label-arrow\">StandardScaler</label><div class=\"sk-toggleable__content\"><pre>StandardScaler()</pre></div></div></div></div></div>"
      ],
      "text/plain": [
       "StandardScaler()"
      ]
     },
     "execution_count": 72,
     "metadata": {},
     "output_type": "execute_result"
    }
   ],
   "source": [
    "scaler = StandardScaler()\n",
    "scaler.fit(X_train)"
   ]
  },
  {
   "cell_type": "code",
   "execution_count": 73,
   "metadata": {
    "id": "0V289oqXeRD-"
   },
   "outputs": [],
   "source": [
    "scalled_x_train= scaler.transform(X_train)\n",
    "scalled_x_test = scaler.transform(X_test)"
   ]
  },
  {
   "cell_type": "markdown",
   "metadata": {
    "id": "0pyqAnxX1pWa"
   },
   "source": [
    "## 6"
   ]
  },
  {
   "cell_type": "code",
   "execution_count": 74,
   "metadata": {
    "id": "hSfSatkD6_oF"
   },
   "outputs": [],
   "source": [
    "from sklearn.metrics import accuracy_score"
   ]
  },
  {
   "cell_type": "code",
   "execution_count": 75,
   "metadata": {
    "id": "Dg__k3AGd9Ij"
   },
   "outputs": [],
   "source": [
    "classifiers = [DecisionTreeClassifier(max_depth=10),GaussianNB(), AdaBoostClassifier()]\n",
    "classifier_names = ['Decision Tree', 'Naive Bayes','Ada Boost']"
   ]
  },
  {
   "cell_type": "code",
   "execution_count": 76,
   "metadata": {
    "id": "jcNyw75be_b0"
   },
   "outputs": [],
   "source": [
    "val_accs = []\n",
    "skf = StratifiedKFold(n_splits=5, shuffle=True, random_state=42)\n",
    "for classifier in classifiers:\n",
    "  temp = []\n",
    "  for fold, (start_train_index, val_index) in enumerate(skf.split(scalled_x_train, y_train)):\n",
    "    X_start_train, X_val = scalled_x_train[start_train_index], scalled_x_train[val_index]\n",
    "    y_start_train, y_val = y_train[start_train_index], y_train[val_index]\n",
    "    classifier.fit(X_start_train, y_start_train)\n",
    "    y_pred = classifier.predict(X_val)\n",
    "    temp.append(accuracy_score(y_val,y_pred))\n",
    "  val_accs.append(np.mean(temp))\n"
   ]
  },
  {
   "cell_type": "code",
   "execution_count": 79,
   "metadata": {
    "colab": {
     "base_uri": "https://localhost:8080/",
     "height": 454
    },
    "id": "aOHBcBtwf-4b",
    "outputId": "c8789351-da1d-485d-e50d-904c86b7a14d"
   },
   "outputs": [
    {
     "data": {
      "image/png": "[encoded data removed]",
      "text/plain": [
       "<Figure size 2000x400 with 4 Axes>"
      ]
     },
     "metadata": {},
     "output_type": "display_data"
    }
   ],
   "source": [
    "fig, axes = plt.subplots(1, 3, figsize=(20,4))\n",
    "ind = 0\n",
    "for name, classifier in zip(classifier_names,classifiers):\n",
    "  y_pred = classifier.predict(scalled_x_test)\n",
    "  cm = confusion_matrix(y_test, y_pred, labels=np.unique(y))\n",
    "\n",
    "  im = axes[ind].imshow(cm, interpolation='nearest', cmap=plt.cm.Blues)\n",
    "\n",
    "\n",
    "  axes[ind].set_xticks(np.arange(len(class_names)))\n",
    "  axes[ind].set_yticks(np.arange(len(class_names)))\n",
    "  axes[ind].set_xticklabels(class_names,rotation=45)\n",
    "  if ind==0:\n",
    "    axes[ind].set_yticklabels(class_names)\n",
    "  axes[ind].set_title(name)\n",
    "\n",
    "  for i in range(len(class_names)):\n",
    "      for j in range(len(class_names)):\n",
    "          axes[ind].text(j, i, str(cm[i, j]), ha='center', va='center', color='white' if cm[i, j] > cm.max() / 2 else 'black')\n",
    "  ind+=1\n",
    "\n",
    "cbar = fig.colorbar(im, ax=axes.ravel().tolist(), shrink=0.6)\n",
    "cbar.ax.set_ylabel('Number of samples')\n",
    "\n",
    "plt.show()\n",
    "\n",
    "#used this website for just guidence : https://scikit-learn.org/dev/modules/generated/sklearn.metrics.ConfusionMatrixDisplay.html"
   ]
  },
  {
   "cell_type": "markdown",
   "metadata": {
    "id": "gjCgcXn7jMQl"
   },
   "source": [
    "## Part: 6a"
   ]
  },
  {
   "cell_type": "markdown",
   "metadata": {
    "id": "TM2xS-Nlin-D"
   },
   "source": [
    "## Ada Boost is looking best becasue on the confusion Matrix we can see that there is more darker color on diagonal \n",
    "## Naive Bayes also have good number of darker diagonal elements so that this two are better method."
   ]
  },
  {
   "cell_type": "markdown",
   "metadata": {
    "id": "yCWe8UbHjPqx"
   },
   "source": [
    "## Part: 6b"
   ]
  },
  {
   "cell_type": "code",
   "execution_count": 80,
   "metadata": {
    "colab": {
     "base_uri": "https://localhost:8080/"
    },
    "id": "hkhjgH87YjwB",
    "outputId": "bcd7b603-bde3-4c11-bafd-fa434479419a"
   },
   "outputs": [
    {
     "name": "stdout",
     "output_type": "stream",
     "text": [
      "Decision Tree Mean Val accuracy accross K folds 0.28283917340521114\n",
      "Naive Bayes Mean Val accuracy accross K folds 0.35496855345911954\n",
      "Ada Boost Mean Val accuracy accross K folds 0.29044025157232706\n"
     ]
    }
   ],
   "source": [
    "for clf_name, acc in zip(classifier_names,val_accs):\n",
    "  print(f\"{clf_name} Mean Val accuracy accross K folds {np.mean(acc)}\")"
   ]
  },
  {
   "cell_type": "markdown",
   "metadata": {
    "id": "Ov-4SLTKieXA"
   },
   "source": [
    "## The best method, based on the mean validation accuracy, is Naive Bayes.\n",
    "## It has the highest accuracy (0.3549) 35.49%"
   ]
  },
  {
   "cell_type": "markdown",
   "metadata": {
    "id": "L3gs7DumjS0T"
   },
   "source": [
    "## Part: 6c and 6d"
   ]
  },
  {
   "cell_type": "code",
   "execution_count": 81,
   "metadata": {
    "id": "USBlTpOo7qOt"
   },
   "outputs": [],
   "source": [
    "from sklearn.metrics import f1_score"
   ]
  },
  {
   "cell_type": "code",
   "execution_count": 82,
   "metadata": {
    "id": "k6fsQsf85COP"
   },
   "outputs": [],
   "source": [
    "test_acc = []\n",
    "f_scores = []\n",
    "for clf_name, clf in zip(classifier_names,classifiers):\n",
    "  clf.fit(scalled_x_train,y_train)\n",
    "  y_pred = clf.predict(scalled_x_test)\n",
    "  test_acc.append(accuracy_score(y_test,y_pred))\n",
    "  f_scores.append(f1_score(y_test, y_pred, average='micro'))\n"
   ]
  },
  {
   "cell_type": "code",
   "execution_count": 92,
   "metadata": {
    "colab": {
     "base_uri": "https://localhost:8080/"
    },
    "id": "uxjaRGCb74OU",
    "outputId": "70c2bc72-b86f-4708-c59c-0c827a5abb78"
   },
   "outputs": [
    {
     "name": "stdout",
     "output_type": "stream",
     "text": [
      "Decision Tree has Test accuracy  0.311 and F1 score 0.311\n",
      "Naive Bayes has Test accuracy  0.265 and F1 score 0.265\n",
      "Ada Boost has Test accuracy  0.288 and F1 score 0.288\n"
     ]
    }
   ],
   "source": [
    "for clf_name, acc, f1 in zip(classifier_names,test_acc,f_scores):\n",
    "  print(f\"{clf_name} has Test accuracy  {acc:.3f} and F1 score {f1:.3f}\")\n"
   ]
  },
  {
   "cell_type": "markdown",
   "metadata": {
    "id": "P2JVoBz482gf"
   },
   "source": [
    "## Decision Tree is best in both Test accuracy and F1 score"
   ]
  },
  {
   "cell_type": "markdown",
   "metadata": {
    "id": "RwwNubGkrJfj"
   },
   "source": [
    "# Part : 7"
   ]
  },
  {
   "cell_type": "code",
   "execution_count": 103,
   "metadata": {
    "id": "ye5CRjAjfIcn"
   },
   "outputs": [],
   "source": [
    "mean_val_errors_std = []\n",
    "mean_val_errors_strat = []\n",
    "mean_train_errors_std = []\n",
    "mean_train_errors_strat = []\n",
    "k_values = [0.1,1,10,100]\n",
    "for k in k_values:\n",
    "    # Standard 5-fold cross-validation\n",
    "    kf = KFold(n_splits=5,shuffle=True,random_state=10)\n",
    "    model1 = LinearSVC(C=k)\n",
    "    val_scores_std = cross_val_score(model1, scalled_x_train, y_train, cv=kf)\n",
    "    train_scores_std = model1.fit(scalled_x_train, y_train).score(scalled_x_train, y_train)\n",
    "    mean_val_errors_std.append(1 - np.mean(val_scores_std))\n",
    "    mean_train_errors_std.append(1 - train_scores_std)\n",
    "\n",
    "    model2 = LinearSVC(C=k)\n",
    "    skf = StratifiedKFold(n_splits=5,shuffle=True,random_state=10)\n",
    "    val_scores_strat = cross_val_score(model2, scalled_x_train, y_train, cv=skf)\n",
    "    train_scores_strat = model2.fit(scalled_x_train, y_train).score(scalled_x_train, y_train)\n",
    "    mean_val_errors_strat.append(1 - np.mean(val_scores_strat))\n",
    "    mean_train_errors_strat.append(1 - train_scores_strat)\n"
   ]
  },
  {
   "cell_type": "code",
   "execution_count": 110,
   "metadata": {},
   "outputs": [
    {
     "data": {
      "image/png": "[encoded data removed]",
      "text/plain": [
       "<Figure size 640x480 with 1 Axes>"
      ]
     },
     "metadata": {},
     "output_type": "display_data"
    }
   ],
   "source": [
    "fig,ax = plt.subplots()\n",
    "ax.plot(k_values,mean_train_errors_std,label=\"Standard Training_Score\")\n",
    "ax.plot(k_values,mean_val_errors_std,label=\"Standard Validation_Score\")\n",
    "ax.plot(k_values,mean_train_errors_strat,label=\"Standard Training_Score\")\n",
    "ax.plot(k_values,mean_val_errors_strat,label=\"Stratified Validation_Score\")\n",
    "ax.legend()\n",
    "plt.show()"
   ]
  },
  {
   "cell_type": "code",
   "execution_count": 105,
   "metadata": {},
   "outputs": [
    {
     "name": "stdout",
     "output_type": "stream",
     "text": [
      "Lowest Standrad Training mean Error is 0.6015180265654649 at  C =  0.1\n",
      "Lowest Standrad validation mean Error is 0.7344474393530998  at  C = 100\n",
      "Lowest Stratified Training mean Error is 0.5939278937381405 at C = 10\n",
      "Lowest Stratified validation mean Error is 0.7306558849955077 at C = 0.1\n"
     ]
    }
   ],
   "source": [
    "print(f\"Lowest Standrad Training mean Error is {np.min(mean_train_errors_std)} at  C =  {k_values[np.argmin(mean_train_errors_std)]}\")\n",
    "print(f\"Lowest Standrad validation mean Error is {np.min(mean_val_errors_std)}  at  C = {k_values[np.argmin(mean_val_errors_std)]}\")\n",
    "print(f\"Lowest Stratified Training mean Error is {np.min(mean_train_errors_strat)} at C = {k_values[np.argmin(mean_train_errors_strat)]}\")\n",
    "print(f\"Lowest Stratified validation mean Error is {np.min(mean_val_errors_strat)} at C = {k_values[np.argmin(mean_val_errors_strat)]}\")"
   ]
  },
  {
   "cell_type": "markdown",
   "metadata": {},
   "source": [
    "## Small C allows for large margin whihc lead to underfitting if the model is too simple.\n",
    "## Large C which might lead to a more complex model and resulting in overfitting."
   ]
  },
  {
   "cell_type": "code",
   "execution_count": 106,
   "metadata": {},
   "outputs": [],
   "source": [
    "knn = LinearSVC(C=100)\n",
    "knn.fit(scalled_x_train,y_train)\n",
    "error = 1- knn.score(scalled_x_test,y_test)"
   ]
  },
  {
   "cell_type": "code",
   "execution_count": 107,
   "metadata": {},
   "outputs": [
    {
     "data": {
      "text/plain": [
       "0.7121212121212122"
      ]
     },
     "execution_count": 107,
     "metadata": {},
     "output_type": "execute_result"
    }
   ],
   "source": [
    "error"
   ]
  },
  {
   "cell_type": "markdown",
   "metadata": {},
   "source": [
    "## Error for the test dataset : 0.712"
   ]
  }
 ],
 "metadata": {
  "colab": {
   "provenance": []
  },
  "kernelspec": {
   "display_name": "Python 3 (ipykernel)",
   "language": "python",
   "name": "python3"
  },
  "language_info": {
   "codemirror_mode": {
    "name": "ipython",
    "version": 3
   },
   "file_extension": ".py",
   "mimetype": "text/x-python",
   "name": "python",
   "nbconvert_exporter": "python",
   "pygments_lexer": "ipython3",
   "version": "3.11.8"
  }
 },
 "nbformat": 4,
 "nbformat_minor": 4
}
